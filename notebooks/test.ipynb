{
 "cells": [
  {
   "cell_type": "code",
   "execution_count": 5,
   "metadata": {},
   "outputs": [],
   "source": [
    "import mne\n",
    "import numpy as np\n",
    "from scipy.io import loadmat, savemat\n",
    "\n",
    "def parseBci42aFile(dataPath, labelPath, epochWindow = [0,4], chans = list(range(22))):\n",
    "    '''\n",
    "    Parse the bci42a data file and return an epoched data. \n",
    "\n",
    "    Parameters\n",
    "    ----------\n",
    "    dataPath : str\n",
    "        path to the gdf file.\n",
    "    labelPath : str\n",
    "        path to the labels mat file.\n",
    "    epochWindow : list, optional\n",
    "        time segment to extract in seconds. The default is [0,4].\n",
    "    chans  : list : channels to select from the data. \n",
    "    \n",
    "    Returns\n",
    "    -------\n",
    "    data : an EEG structure with following fields:\n",
    "        x: 3d np array with epoched EEG data : chan x time x trials\n",
    "        y: 1d np array containing trial labels starting from 0\n",
    "        s: float, sampling frequency\n",
    "        c: list of channels - can be list of ints. \n",
    "    '''\n",
    "    eventCode = ['768'] # start of the trial at t=0\n",
    "    fs = 250\n",
    "    offset = 2\n",
    "    \n",
    "    #load the gdf file using MNE\n",
    "    raw_gdf = mne.io.read_raw_gdf(dataPath, stim_channel=\"auto\")\n",
    "    raw_gdf.load_data()\n",
    "    print(raw_gdf)\n",
    "    gdf_event_labels = mne.events_from_annotations(raw_gdf)[1]\n",
    "    print(gdf_event_labels)\n",
    "    eventCode = [gdf_event_labels[x] for x in eventCode]\n",
    "\n",
    "    gdf_events = mne.events_from_annotations(raw_gdf)[0][:,[0,2]].tolist()\n",
    "    eeg = raw_gdf.get_data()\n",
    "    \n",
    "    # drop channels\n",
    "    if chans is not None:\n",
    "        eeg = eeg[chans,:]\n",
    "    \n",
    "    print(eeg.shape)\n",
    "\n",
    "    # #Epoch the data\n",
    "    # events = [event for event in gdf_events if event[1] in eventCode]\n",
    "    # y = np.array([i[1] for i in events])\n",
    "    # epochInterval = np.array(range(epochWindow[0]*fs, epochWindow[1]*fs))+offset*fs\n",
    "    # print(events)\n",
    "    # print(len(events))\n",
    "    # x = np.stack([eeg[:, epochInterval+event[0] ] for event in events], axis = 2)\n",
    "    \n",
    "    # print(x.shape)\n",
    "    \n",
    "    # # Multiply the data with 1e6\n",
    "    # x = x*1e6\n",
    "    \n",
    "    # # have a check to ensure that all the 288 EEG trials are extracted.\n",
    "    # assert x.shape[-1] == 288, \"Could not extracted all the 288 trials from GDF file: {}. Manually check what is the reason for this\".format(dataPath)\n",
    "\n",
    "    # #Load the labels\n",
    "    # y = loadmat(labelPath)[\"classlabel\"].squeeze()\n",
    "    # # change the labels from [1-4] to [0-3] \n",
    "    # y = y -1\n",
    "    \n",
    "    # data = {'x': x, 'y': y, 'c': np.array(raw_gdf.info['ch_names'])[chans].tolist(), 's': fs}\n",
    "    # print(data['x'].shape, data['y'].shape)\n"
   ]
  },
  {
   "cell_type": "code",
   "execution_count": 6,
   "metadata": {},
   "outputs": [
    {
     "name": "stdout",
     "output_type": "stream",
     "text": [
      "Extracting EDF parameters from d:\\codes\\BCI-VR\\FBCNet\\data\\bci42a\\originalData\\A01T.gdf...\n",
      "GDF file detected\n",
      "Setting channel info structure...\n",
      "Could not determine channel type of the following channels, they will be set as EEG:\n",
      "EEG-Fz, EEG, EEG, EEG, EEG, EEG, EEG, EEG-C3, EEG, EEG-Cz, EEG, EEG-C4, EEG, EEG, EEG, EEG, EEG, EEG, EEG, EEG-Pz, EEG, EEG, EOG-left, EOG-central, EOG-right\n",
      "Creating raw.info structure...\n",
      "Reading 0 ... 672527  =      0.000 ...  2690.108 secs...\n"
     ]
    },
    {
     "name": "stderr",
     "output_type": "stream",
     "text": [
      "<d:\\anaconda3\\envs\\FBCNet\\lib\\site-packages\\decorator.py:decorator-gen-157>:12: RuntimeWarning: Channel names are not unique, found duplicates for: {'EEG'}. Applying running numbers for duplicates.\n"
     ]
    },
    {
     "name": "stdout",
     "output_type": "stream",
     "text": [
      "<RawGDF | A01T.gdf, 25 x 672528 (2690.1 s), ~128.3 MB, data loaded>\n",
      "Used Annotations descriptions: ['1023', '1072', '276', '277', '32766', '768', '769', '770', '771', '772']\n",
      "{'1023': 1, '1072': 2, '276': 3, '277': 4, '32766': 5, '768': 6, '769': 7, '770': 8, '771': 9, '772': 10}\n",
      "Used Annotations descriptions: ['1023', '1072', '276', '277', '32766', '768', '769', '770', '771', '772']\n",
      "(22, 672528)\n"
     ]
    }
   ],
   "source": [
    "filename = '../data/bci42a/originalData/A01T.gdf'\n",
    "labelpath = '../data/bci42a/originalData/A01T.mat'\n",
    "\n",
    "data = parseBci42aFile(filename, labelpath)"
   ]
  },
  {
   "cell_type": "code",
   "execution_count": 20,
   "metadata": {},
   "outputs": [],
   "source": [
    "import torch.nn as nn\n",
    "\n",
    "class VarLayer(nn.Module):\n",
    "    '''\n",
    "    The variance layer: calculates the variance of the data along given 'dim'\n",
    "    '''\n",
    "    def __init__(self, dim):\n",
    "        super(VarLayer, self).__init__()\n",
    "        self.dim = dim\n",
    "\n",
    "    def forward(self, x):\n",
    "        return x.var(dim = self.dim, keepdim= True)"
   ]
  },
  {
   "cell_type": "code",
   "execution_count": 25,
   "metadata": {},
   "outputs": [
    {
     "name": "stdout",
     "output_type": "stream",
     "text": [
      "tensor([0.]) tensor([1.])\n"
     ]
    }
   ],
   "source": [
    "import torch\n",
    "\n",
    "x = torch.Tensor([1, 1, 1])\n",
    "y = torch.Tensor([1, 2, 3])\n",
    "\n",
    "var = VarLayer(0)\n",
    "print(var(x), var(y))"
   ]
  }
 ],
 "metadata": {
  "kernelspec": {
   "display_name": "FBCNet",
   "language": "python",
   "name": "python3"
  },
  "language_info": {
   "codemirror_mode": {
    "name": "ipython",
    "version": 3
   },
   "file_extension": ".py",
   "mimetype": "text/x-python",
   "name": "python",
   "nbconvert_exporter": "python",
   "pygments_lexer": "ipython3",
   "version": "3.7.16"
  }
 },
 "nbformat": 4,
 "nbformat_minor": 2
}
